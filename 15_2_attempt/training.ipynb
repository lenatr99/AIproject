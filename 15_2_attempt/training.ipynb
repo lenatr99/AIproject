{
 "cells": [
  {
   "cell_type": "code",
   "execution_count": 1,
   "metadata": {},
   "outputs": [
    {
     "name": "stdout",
     "output_type": "stream",
     "text": [
      "Numpy version: 1.24.1\n",
      "PyTorch version: 2.0.1+cpu\n"
     ]
    }
   ],
   "source": [
    "import agent\n",
    "import numpy as np\n",
    "from game import Game\n",
    "from collections import deque\n",
    "from agent import Agent\n",
    "import time\n",
    "import torch\n",
    "import datetime\n",
    "import random\n",
    "import matplotlib.pyplot as plt\n",
    "%matplotlib inline\n",
    "from IPython.display import clear_output\n",
    "import pickle\n",
    "import math\n",
    "import os\n",
    "print(\"Numpy version:\", np.__version__)\n",
    "print(\"PyTorch version:\", torch.__version__)"
   ]
  },
  {
   "attachments": {},
   "cell_type": "markdown",
   "metadata": {},
   "source": [
    "# Deep Q-Learning function"
   ]
  },
  {
   "cell_type": "code",
   "execution_count": 2,
   "metadata": {},
   "outputs": [],
   "source": [
    "def expectimax():\n",
    "    \"\"\"Expectimax agent\"\"\"\n",
    "    # main loop\n",
    "    time_start = time.time()\n",
    "    \n",
    "    # keep track of different actions taken per episode\n",
    "    actions = np.array([0, 0, 0, 0])\n",
    "    \n",
    "    # Starting with a fresh board\n",
    "    env.reset(2)                        # reset environment\n",
    "    \n",
    "    state = env.current_state()         # get the current state      \n",
    "    score = env.score                                 # initialize the score\n",
    "    agent.total_steps = 0\n",
    "    \n",
    "    # keep playing\n",
    "    while not env.done:        \n",
    "        action_values = agent.act(state)    # select an action\n",
    "        # Clear the output in Jupyter Notebook\n",
    "        clear_output(wait=True)\n",
    "\n",
    "        # Print the string representation\n",
    "        env.draw_board(env.game_board)\n",
    "        \n",
    "        actions_sorted = [(i, v) for i, v in enumerate(action_values[0])]\n",
    "        actions_sorted = sorted(actions_sorted, key=lambda x: x[1], reverse=True)\n",
    "        action_idx = 0\n",
    "        env.moved = False\n",
    "        while not env.moved:\n",
    "            \n",
    "            action_elem = actions_sorted[action_idx]\n",
    "            action_idx += 1\n",
    "\n",
    "            action = np.int64(action_elem[0])\n",
    "            actions[action] += 1\n",
    "            env.step(action, action_values)                              # send the action to environment\n",
    "            next_state = env.current_state()  # get the current state \n",
    "\n",
    "            # save the results of the step\n",
    "\n",
    "            done = env.done                             # check if episode has finished\n",
    "            state = next_state\n",
    "            agent.total_steps += 1\n",
    "\n",
    "            if done:\n",
    "                break \n",
    "        \n",
    "        time_end = time.time()\n",
    "\n",
    "\n",
    "        "
   ]
  },
  {
   "attachments": {},
   "cell_type": "markdown",
   "metadata": {},
   "source": [
    "# Initialization & training"
   ]
  },
  {
   "cell_type": "code",
   "execution_count": 3,
   "metadata": {},
   "outputs": [],
   "source": [
    "edge_max_bonus=3\n",
    "open_square_bonus=0.2\n",
    "\n",
    "# # Create the environment with 4x4 board\n",
    "env = Game()\n",
    "# Create the agent, duplicating default values for visibility\n",
    "agent = Agent(state_size=4*4, action_size=env.action_size, seed=65, edge_max_bonus=edge_max_bonus, open_square_bonus=open_square_bonus)"
   ]
  },
  {
   "cell_type": "code",
   "execution_count": 4,
   "metadata": {
    "scrolled": false
   },
   "outputs": [
    {
     "data": {
      "image/png": "[encoded data removed]",
      "text/plain": [
       "<Figure size 300x300 with 16 Axes>"
      ]
     },
     "metadata": {},
     "output_type": "display_data"
    }
   ],
   "source": [
    "# Run the training\n",
    "expectimax()"
   ]
  }
 ],
 "metadata": {
  "kernelspec": {
   "display_name": "Python 3",
   "language": "python",
   "name": "python3"
  },
  "language_info": {
   "codemirror_mode": {
    "name": "ipython",
    "version": 3
   },
   "file_extension": ".py",
   "mimetype": "text/x-python",
   "name": "python",
   "nbconvert_exporter": "python",
   "pygments_lexer": "ipython3",
   "version": "3.10.8"
  }
 },
 "nbformat": 4,
 "nbformat_minor": 2
}
